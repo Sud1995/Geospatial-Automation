{
 "cells": [
  {
   "cell_type": "code",
   "execution_count": 1,
   "id": "e3a4dfd5",
   "metadata": {},
   "outputs": [
    {
     "data": {
      "text/html": [
       "<p>To authorize access needed by Earth Engine, open the following\n",
       "        URL in a web browser and follow the instructions:</p>\n",
       "        <p><a href=https://code.earthengine.google.com/client-auth?scopes=https%3A//www.googleapis.com/auth/earthengine%20https%3A//www.googleapis.com/auth/devstorage.full_control&request_id=Bvznqw20s0yvBnLCbi3y193YXsXzFmjRgaFq6pnYoEE&tc=_x2X3BOo6KUn3ubYP7g9fHwGyZ_MrI-mgg4AyPh00Ec&cc=yIOMkScvKb2ca9VdYcnvrUfHievt-BcUP2SeOR-9hQw>https://code.earthengine.google.com/client-auth?scopes=https%3A//www.googleapis.com/auth/earthengine%20https%3A//www.googleapis.com/auth/devstorage.full_control&request_id=Bvznqw20s0yvBnLCbi3y193YXsXzFmjRgaFq6pnYoEE&tc=_x2X3BOo6KUn3ubYP7g9fHwGyZ_MrI-mgg4AyPh00Ec&cc=yIOMkScvKb2ca9VdYcnvrUfHievt-BcUP2SeOR-9hQw</a></p>\n",
       "        <p>The authorization workflow will generate a code, which you should paste in the box below.</p>\n",
       "        "
      ],
      "text/plain": [
       "<IPython.core.display.HTML object>"
      ]
     },
     "metadata": {},
     "output_type": "display_data"
    },
    {
     "name": "stdout",
     "output_type": "stream",
     "text": [
      "Enter verification code: 4/1ATx3LY6Hgd3G8-MUKKS5hhxlnOl30rRz60GxiYx3beqIlVhpdjsxonfl60Y\n",
      "\n",
      "Successfully saved authorization token.\n"
     ]
    }
   ],
   "source": [
    "import ee\n",
    "import geemap\n",
    "import geopandas as gpd\n",
    "ee.Authenticate()\n",
    "ee.Initialize()"
   ]
  },
  {
   "cell_type": "markdown",
   "id": "1a25f194",
   "metadata": {},
   "source": [
    "## Cloud value 50 and Satsure time line TCs "
   ]
  },
  {
   "cell_type": "code",
   "execution_count": null,
   "id": "bc1612f4",
   "metadata": {},
   "outputs": [],
   "source": [
    "Map = geemap.Map()\n",
    "from datetime import date, timedelta,datetime\n",
    "\n",
    "start_dt = date(2023,10,1)\n",
    "end_dt = date(2023,10,21)\n",
    "\n",
    "delta = timedelta(days=10)\n",
    "\n",
    "dates = []\n",
    "\n",
    "while start_dt <= end_dt:\n",
    "    # add current date to list by converting  it to iso format\n",
    "    if int(start_dt.month)==int(2) and int(start_dt.day)==int(21):\n",
    "        dates.append(start_dt.isoformat())\n",
    "        start_dt=date(start_dt.year, 3, 1)\n",
    "    elif int(start_dt.month)==int(12) and int(start_dt.day)==int(31):\n",
    "        start_dt=date(start_dt.year+1, 1, 1)\n",
    "        dates.append(start_dt.isoformat())\n",
    "        start_dt += delta\n",
    "  \n",
    "    elif start_dt.day== 31:\n",
    "        start_dt=date(start_dt.year, start_dt.month+1, 1)\n",
    "        dates.append(start_dt.isoformat())\n",
    "        start_dt += delta\n",
    "\n",
    "    else:\n",
    "        dates.append(start_dt.isoformat())\n",
    "        start_dt += delta  \n",
    "\n",
    "    \n",
    "for i in range(len(dates) - 1):\n",
    "    value = dates[i:i+2]\n",
    "    delta = timedelta(days=1)\n",
    "    y,m,d=value[0].split('-')\n",
    "    intial_date=date(int(y),int(m),int(d))+delta\n",
    "    print(intial_date,value[1])\n",
    "#     shp=gpd.read_file(\"C:/Satsure/GovUP/Acreage/UttarPradeshshps/UttarPradesh/Dist/091034045000000.shp\")\n",
    "    shp=geemap.shp_to_ee(\"C:/Satsure/SOI_Shapefiles/Odisha/Dist/091026017000000.shp\")\n",
    "#     shapefile = geemap.gdf_to_ee(shp)\n",
    "    aoi=shp.geometry()\n",
    "    roi=aoi.transform('EPSG:32645',0.001)\n",
    "\n",
    "    # Filter Sentinel-2 imagery\n",
    "    sentinel2 = ee.ImageCollection('COPERNICUS/S2_SR') \\\n",
    "        .filterBounds(shp) \\\n",
    "        .filterDate(str(intial_date), value[1]) \\\n",
    "        .filter(ee.Filter.lt('CLOUDY_PIXEL_PERCENTAGE', 100))\n",
    "\n",
    "    # Function to calculate NDVI\n",
    "    def calculate_ndvi(image):\n",
    "        ndvi = image.normalizedDifference(['B8', 'B4']) \\\n",
    "            .rename('NDVI') \\\n",
    "            .multiply(100).add(100).uint8()  # Scale NDVI values for export\n",
    "\n",
    "        return image.addBands(ndvi)\n",
    "\n",
    "    # Apply NDVI calculation function to each image\n",
    "    ndvi_collection = sentinel2.map(calculate_ndvi)\n",
    "\n",
    "\n",
    "    # Function to mask NDVI based on blue and green bands\n",
    "    def mask_ndvi(image):\n",
    "        blue = image.select('B2')\n",
    "        green = image.select('B3')\n",
    "        ndvi = image.select('NDVI')\n",
    "\n",
    "        # Create mask for blue and green bands\n",
    "        mask = blue.gt(3600).And(green.gt(3800))\n",
    "\n",
    "        # Mask NDVI values with 50 where the mask is True\n",
    "        ndvi_masked = ndvi.where(mask, 50).rename('NDVI_MASKED')\n",
    "\n",
    "        return image.addBands(ndvi_masked)\n",
    "\n",
    "    \n",
    "    \n",
    "     # Apply masking function to each image\n",
    "    mask_ndvicol=ndvi_collection.map(mask_ndvi)\n",
    "\n",
    "    \n",
    "    color = ['FFFFFF', 'CE7E45', 'DF923D', 'F1B555', 'FCD163', '99B718',\n",
    "           '74A901', '66A000', '529400', '3E8601', '207401', '056201',\n",
    "           '004C00', '023B01', '012E01', '011D01', '011301']\n",
    "    pallete = {\"min\":-1, \"max\":1, 'palette':color}\n",
    "\n",
    "    \n",
    "    # Map the NDVI calculation function over the image collection\n",
    "    mask_ndvi = mask_ndvicol.select('NDVI_MASKED').max().reproject(crs='EPSG:32645').clip(roi)\n",
    "#     mask_ndvi = mask_ndvicol.select('NDVI_MASKED').max().clip(shapefile)\n",
    "    Map.addLayer(mask_ndvi,pallete,f'{value[1]}_ndvi')\n",
    "\n",
    "\n",
    "    ####give the file name in description and folder name  below\n",
    "    geemap.ee_export_image_to_drive(mask_ndvi, description=f'{value[1]}_091026017000000_STC',\n",
    "                                    folder='CR', \n",
    "                                    region= roi, scale=10, maxPixels=316672400)"
   ]
  },
  {
   "cell_type": "markdown",
   "id": "d2b4c979",
   "metadata": {},
   "source": [
    "# FCC"
   ]
  },
  {
   "cell_type": "code",
   "execution_count": 4,
   "id": "963d9d0f",
   "metadata": {},
   "outputs": [
    {
     "data": {
      "application/vnd.jupyter.widget-view+json": {
       "model_id": "ec56f5cc4a2043d4ad68ed39d102bbd1",
       "version_major": 2,
       "version_minor": 0
      },
      "text/plain": [
       "Map(center=[25.87261897761894, 81.83000411490946], controls=(WidgetControl(options=['position', 'transparent_b…"
      ]
     },
     "execution_count": 4,
     "metadata": {},
     "output_type": "execute_result"
    }
   ],
   "source": [
    "AOI = geemap.shp_to_ee('D:/GOVUP/Group-D-District_Boundary_28feb2024/Pratapgarh_utm.shp')\n",
    "# AOI = geemap.geojson_to_ee('E:/Soham/merged_waldo.geojson')\n",
    "roi=AOI.geometry()\n",
    "# shp=gpd.read_file(\"C:/Satsure/GovUP/91034036000000/shp/91034036000000.shp\")\n",
    "# AOI = geemap.shp_to_ee(shp)\n",
    "# roi=AOI.geometry()\n",
    "S2 = ee.ImageCollection(\"COPERNICUS/S2_SR\").select('B2','B3','B4','B8')\n",
    "# #image1=S2.filter(ee.Filter.lt('CLOUDY_PIXEL_PERCENTAGE',30)).filter(ee.Filter.date('2021-11-01', '2021-11-15')).filter(ee.Filter.bounds(AOI)).select('B2','B3','B4','B8').map(addNDVI).max().clip(AOI)\n",
    "collection1=S2.filter(ee.Filter.lt('CLOUDY_PIXEL_PERCENTAGE',100)).filter(ee.Filter.date('2024-05-20', '2024-05-30')).filter(ee.Filter.bounds(AOI)).mosaic().clip(AOI)\n",
    "vizParams = {\n",
    "  'bands': ['B8', 'B3', 'B2'],\n",
    "  'min': 0,\n",
    "  'max': 4000,\n",
    "  'gamma': [0.95, 1.1, 1]\n",
    "}\n",
    "Map = geemap.Map()\n",
    "Map.addLayer(collection1, vizParams, 'False color composite')\n",
    "Map.addLayerControl()\n",
    "Map.centerObject(AOI, zoom = 8)\n",
    "Map"
   ]
  },
  {
   "cell_type": "code",
   "execution_count": 5,
   "id": "29f9bfc0",
   "metadata": {},
   "outputs": [],
   "source": [
    "geemap.ee_export_image_to_drive(collection1, description='FCC_2024May30_Pratapgarh', folder='earthengine', region= roi, scale=10, maxPixels=392036832)"
   ]
  },
  {
   "cell_type": "code",
   "execution_count": null,
   "id": "dbfb8c98",
   "metadata": {},
   "outputs": [],
   "source": []
  }
 ],
 "metadata": {
  "kernelspec": {
   "display_name": "Python 3 (ipykernel)",
   "language": "python",
   "name": "python3"
  },
  "language_info": {
   "codemirror_mode": {
    "name": "ipython",
    "version": 3
   },
   "file_extension": ".py",
   "mimetype": "text/x-python",
   "name": "python",
   "nbconvert_exporter": "python",
   "pygments_lexer": "ipython3",
   "version": "3.9.7"
  }
 },
 "nbformat": 4,
 "nbformat_minor": 5
}
